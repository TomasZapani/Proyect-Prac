{
 "cells": [
  {
   "cell_type": "code",
   "execution_count": 4,
   "id": "d2006abf-9a3e-4c8d-ad1a-c334cb635ea1",
   "metadata": {},
   "outputs": [],
   "source": [
    "import pandas as pd"
   ]
  },
  {
   "cell_type": "code",
   "execution_count": 41,
   "id": "12bc36be-5e1c-4002-a26d-b91b4bfbd4f2",
   "metadata": {},
   "outputs": [
    {
     "data": {
      "text/html": [
       "<div>\n",
       "<style scoped>\n",
       "    .dataframe tbody tr th:only-of-type {\n",
       "        vertical-align: middle;\n",
       "    }\n",
       "\n",
       "    .dataframe tbody tr th {\n",
       "        vertical-align: top;\n",
       "    }\n",
       "\n",
       "    .dataframe thead th {\n",
       "        text-align: right;\n",
       "    }\n",
       "</style>\n",
       "<table border=\"1\" class=\"dataframe\">\n",
       "  <thead>\n",
       "    <tr style=\"text-align: right;\">\n",
       "      <th></th>\n",
       "      <th>Unnamed: 0.1</th>\n",
       "      <th>Unnamed: 0</th>\n",
       "      <th>Organisation</th>\n",
       "      <th>Location</th>\n",
       "      <th>Date</th>\n",
       "      <th>Detail</th>\n",
       "      <th>Rocket_Status</th>\n",
       "      <th>Price</th>\n",
       "      <th>Mission_Status</th>\n",
       "    </tr>\n",
       "  </thead>\n",
       "  <tbody>\n",
       "    <tr>\n",
       "      <th>0</th>\n",
       "      <td>0</td>\n",
       "      <td>0</td>\n",
       "      <td>SpaceX</td>\n",
       "      <td>LC-39A, Kennedy Space Center, Florida, USA</td>\n",
       "      <td>Fri Aug 07, 2020 05:12 UTC</td>\n",
       "      <td>Falcon 9 Block 5 | Starlink V1 L9 &amp; BlackSky</td>\n",
       "      <td>StatusActive</td>\n",
       "      <td>50.0</td>\n",
       "      <td>Success</td>\n",
       "    </tr>\n",
       "    <tr>\n",
       "      <th>1</th>\n",
       "      <td>1</td>\n",
       "      <td>1</td>\n",
       "      <td>CASC</td>\n",
       "      <td>Site 9401 (SLS-2), Jiuquan Satellite Launch Ce...</td>\n",
       "      <td>Thu Aug 06, 2020 04:01 UTC</td>\n",
       "      <td>Long March 2D | Gaofen-9 04 &amp; Q-SAT</td>\n",
       "      <td>StatusActive</td>\n",
       "      <td>29.75</td>\n",
       "      <td>Success</td>\n",
       "    </tr>\n",
       "    <tr>\n",
       "      <th>2</th>\n",
       "      <td>2</td>\n",
       "      <td>2</td>\n",
       "      <td>SpaceX</td>\n",
       "      <td>Pad A, Boca Chica, Texas, USA</td>\n",
       "      <td>Tue Aug 04, 2020 23:57 UTC</td>\n",
       "      <td>Starship Prototype | 150 Meter Hop</td>\n",
       "      <td>StatusActive</td>\n",
       "      <td>NaN</td>\n",
       "      <td>Success</td>\n",
       "    </tr>\n",
       "    <tr>\n",
       "      <th>3</th>\n",
       "      <td>3</td>\n",
       "      <td>3</td>\n",
       "      <td>Roscosmos</td>\n",
       "      <td>Site 200/39, Baikonur Cosmodrome, Kazakhstan</td>\n",
       "      <td>Thu Jul 30, 2020 21:25 UTC</td>\n",
       "      <td>Proton-M/Briz-M | Ekspress-80 &amp; Ekspress-103</td>\n",
       "      <td>StatusActive</td>\n",
       "      <td>65.0</td>\n",
       "      <td>Success</td>\n",
       "    </tr>\n",
       "    <tr>\n",
       "      <th>4</th>\n",
       "      <td>4</td>\n",
       "      <td>4</td>\n",
       "      <td>ULA</td>\n",
       "      <td>SLC-41, Cape Canaveral AFS, Florida, USA</td>\n",
       "      <td>Thu Jul 30, 2020 11:50 UTC</td>\n",
       "      <td>Atlas V 541 | Perseverance</td>\n",
       "      <td>StatusActive</td>\n",
       "      <td>145.0</td>\n",
       "      <td>Success</td>\n",
       "    </tr>\n",
       "    <tr>\n",
       "      <th>...</th>\n",
       "      <td>...</td>\n",
       "      <td>...</td>\n",
       "      <td>...</td>\n",
       "      <td>...</td>\n",
       "      <td>...</td>\n",
       "      <td>...</td>\n",
       "      <td>...</td>\n",
       "      <td>...</td>\n",
       "      <td>...</td>\n",
       "    </tr>\n",
       "    <tr>\n",
       "      <th>4319</th>\n",
       "      <td>4319</td>\n",
       "      <td>4319</td>\n",
       "      <td>US Navy</td>\n",
       "      <td>LC-18A, Cape Canaveral AFS, Florida, USA</td>\n",
       "      <td>Wed Feb 05, 1958 07:33 UTC</td>\n",
       "      <td>Vanguard | Vanguard TV3BU</td>\n",
       "      <td>StatusRetired</td>\n",
       "      <td>NaN</td>\n",
       "      <td>Failure</td>\n",
       "    </tr>\n",
       "    <tr>\n",
       "      <th>4320</th>\n",
       "      <td>4320</td>\n",
       "      <td>4320</td>\n",
       "      <td>AMBA</td>\n",
       "      <td>LC-26A, Cape Canaveral AFS, Florida, USA</td>\n",
       "      <td>Sat Feb 01, 1958 03:48 UTC</td>\n",
       "      <td>Juno I | Explorer 1</td>\n",
       "      <td>StatusRetired</td>\n",
       "      <td>NaN</td>\n",
       "      <td>Success</td>\n",
       "    </tr>\n",
       "    <tr>\n",
       "      <th>4321</th>\n",
       "      <td>4321</td>\n",
       "      <td>4321</td>\n",
       "      <td>US Navy</td>\n",
       "      <td>LC-18A, Cape Canaveral AFS, Florida, USA</td>\n",
       "      <td>Fri Dec 06, 1957 16:44 UTC</td>\n",
       "      <td>Vanguard | Vanguard TV3</td>\n",
       "      <td>StatusRetired</td>\n",
       "      <td>NaN</td>\n",
       "      <td>Failure</td>\n",
       "    </tr>\n",
       "    <tr>\n",
       "      <th>4322</th>\n",
       "      <td>4322</td>\n",
       "      <td>4322</td>\n",
       "      <td>RVSN USSR</td>\n",
       "      <td>Site 1/5, Baikonur Cosmodrome, Kazakhstan</td>\n",
       "      <td>Sun Nov 03, 1957 02:30 UTC</td>\n",
       "      <td>Sputnik 8K71PS | Sputnik-2</td>\n",
       "      <td>StatusRetired</td>\n",
       "      <td>NaN</td>\n",
       "      <td>Success</td>\n",
       "    </tr>\n",
       "    <tr>\n",
       "      <th>4323</th>\n",
       "      <td>4323</td>\n",
       "      <td>4323</td>\n",
       "      <td>RVSN USSR</td>\n",
       "      <td>Site 1/5, Baikonur Cosmodrome, Kazakhstan</td>\n",
       "      <td>Fri Oct 04, 1957 19:28 UTC</td>\n",
       "      <td>Sputnik 8K71PS | Sputnik-1</td>\n",
       "      <td>StatusRetired</td>\n",
       "      <td>NaN</td>\n",
       "      <td>Success</td>\n",
       "    </tr>\n",
       "  </tbody>\n",
       "</table>\n",
       "<p>4324 rows × 9 columns</p>\n",
       "</div>"
      ],
      "text/plain": [
       "      Unnamed: 0.1  Unnamed: 0 Organisation  \\\n",
       "0                0           0       SpaceX   \n",
       "1                1           1         CASC   \n",
       "2                2           2       SpaceX   \n",
       "3                3           3    Roscosmos   \n",
       "4                4           4          ULA   \n",
       "...            ...         ...          ...   \n",
       "4319          4319        4319      US Navy   \n",
       "4320          4320        4320         AMBA   \n",
       "4321          4321        4321      US Navy   \n",
       "4322          4322        4322    RVSN USSR   \n",
       "4323          4323        4323    RVSN USSR   \n",
       "\n",
       "                                               Location  \\\n",
       "0            LC-39A, Kennedy Space Center, Florida, USA   \n",
       "1     Site 9401 (SLS-2), Jiuquan Satellite Launch Ce...   \n",
       "2                         Pad A, Boca Chica, Texas, USA   \n",
       "3          Site 200/39, Baikonur Cosmodrome, Kazakhstan   \n",
       "4              SLC-41, Cape Canaveral AFS, Florida, USA   \n",
       "...                                                 ...   \n",
       "4319           LC-18A, Cape Canaveral AFS, Florida, USA   \n",
       "4320           LC-26A, Cape Canaveral AFS, Florida, USA   \n",
       "4321           LC-18A, Cape Canaveral AFS, Florida, USA   \n",
       "4322          Site 1/5, Baikonur Cosmodrome, Kazakhstan   \n",
       "4323          Site 1/5, Baikonur Cosmodrome, Kazakhstan   \n",
       "\n",
       "                            Date  \\\n",
       "0     Fri Aug 07, 2020 05:12 UTC   \n",
       "1     Thu Aug 06, 2020 04:01 UTC   \n",
       "2     Tue Aug 04, 2020 23:57 UTC   \n",
       "3     Thu Jul 30, 2020 21:25 UTC   \n",
       "4     Thu Jul 30, 2020 11:50 UTC   \n",
       "...                          ...   \n",
       "4319  Wed Feb 05, 1958 07:33 UTC   \n",
       "4320  Sat Feb 01, 1958 03:48 UTC   \n",
       "4321  Fri Dec 06, 1957 16:44 UTC   \n",
       "4322  Sun Nov 03, 1957 02:30 UTC   \n",
       "4323  Fri Oct 04, 1957 19:28 UTC   \n",
       "\n",
       "                                            Detail  Rocket_Status  Price  \\\n",
       "0     Falcon 9 Block 5 | Starlink V1 L9 & BlackSky   StatusActive   50.0   \n",
       "1              Long March 2D | Gaofen-9 04 & Q-SAT   StatusActive  29.75   \n",
       "2               Starship Prototype | 150 Meter Hop   StatusActive    NaN   \n",
       "3     Proton-M/Briz-M | Ekspress-80 & Ekspress-103   StatusActive   65.0   \n",
       "4                       Atlas V 541 | Perseverance   StatusActive  145.0   \n",
       "...                                            ...            ...    ...   \n",
       "4319                     Vanguard | Vanguard TV3BU  StatusRetired    NaN   \n",
       "4320                           Juno I | Explorer 1  StatusRetired    NaN   \n",
       "4321                       Vanguard | Vanguard TV3  StatusRetired    NaN   \n",
       "4322                    Sputnik 8K71PS | Sputnik-2  StatusRetired    NaN   \n",
       "4323                    Sputnik 8K71PS | Sputnik-1  StatusRetired    NaN   \n",
       "\n",
       "     Mission_Status  \n",
       "0           Success  \n",
       "1           Success  \n",
       "2           Success  \n",
       "3           Success  \n",
       "4           Success  \n",
       "...             ...  \n",
       "4319        Failure  \n",
       "4320        Success  \n",
       "4321        Failure  \n",
       "4322        Success  \n",
       "4323        Success  \n",
       "\n",
       "[4324 rows x 9 columns]"
      ]
     },
     "execution_count": 41,
     "metadata": {},
     "output_type": "execute_result"
    }
   ],
   "source": [
    "df = pd.read_csv('mission_launches.csv')\n",
    "df"
   ]
  },
  {
   "cell_type": "markdown",
   "id": "75f2527e-74b5-498b-8471-7a797b723fe7",
   "metadata": {},
   "source": [
    "1)"
   ]
  },
  {
   "cell_type": "code",
   "execution_count": 42,
   "id": "d1426d53-5904-4589-a6d8-5ef186396e43",
   "metadata": {},
   "outputs": [
    {
     "data": {
      "text/plain": [
       "str"
      ]
     },
     "execution_count": 42,
     "metadata": {},
     "output_type": "execute_result"
    }
   ],
   "source": [
    "type(df['Date'][0])"
   ]
  },
  {
   "cell_type": "code",
   "execution_count": 43,
   "id": "d2787a65-7b17-4941-ab27-a40fe6a61197",
   "metadata": {},
   "outputs": [],
   "source": [
    "df['Date'] = pd.to_datetime(df['Date'],format='mixed', dayfirst=False,utc=True)"
   ]
  },
  {
   "cell_type": "code",
   "execution_count": 44,
   "id": "e7c4e2fa-6821-495b-b652-7a0f6b655b85",
   "metadata": {},
   "outputs": [
    {
     "data": {
      "text/plain": [
       "pandas._libs.tslibs.timestamps.Timestamp"
      ]
     },
     "execution_count": 44,
     "metadata": {},
     "output_type": "execute_result"
    }
   ],
   "source": [
    "type(df['Date'][0])"
   ]
  },
  {
   "cell_type": "code",
   "execution_count": 45,
   "id": "3fa3f6c5-9ca1-47c6-b02e-155ba2db3e9e",
   "metadata": {},
   "outputs": [
    {
     "name": "stdout",
     "output_type": "stream",
     "text": [
      "Año: 1971 - Cantidad: 119 - Organización: RVSN USSR\n"
     ]
    }
   ],
   "source": [
    "# Convertir 'Date' a datetime y extraer el año en una nueva columna\n",
    "df['Año'] = df['Date'].dt.year\n",
    "\n",
    "# Contar el número de lanzamientos por año\n",
    "lanzamientos_por_año = df.groupby('Año').size()\n",
    "\n",
    "# Identificar el año con mayor número de lanzamientos\n",
    "año_max = lanzamientos_por_año.idxmax()\n",
    "cant = lanzamientos_por_año.max()\n",
    "\n",
    "# Obtener la organización que tuvo más lanzamientos en ese año\n",
    "org = df[df['Año'] == año_max]['Organisation'].value_counts().idxmax()\n",
    "\n",
    "print(f'Año: {año_max} - Cantidad: {cant} - Organización: {org}')\n"
   ]
  },
  {
   "cell_type": "code",
   "execution_count": 58,
   "id": "49d8d772-fc3c-4438-baa9-991140776b2c",
   "metadata": {},
   "outputs": [
    {
     "data": {
      "text/plain": [
       "Year\n",
       "1957      3\n",
       "1958     28\n",
       "1959     20\n",
       "1960     39\n",
       "1961     52\n",
       "       ... \n",
       "2016     90\n",
       "2017     92\n",
       "2018    117\n",
       "2019    109\n",
       "2020     63\n",
       "Length: 64, dtype: int64"
      ]
     },
     "execution_count": 58,
     "metadata": {},
     "output_type": "execute_result"
    }
   ],
   "source": [
    "df['Date'] = pd.to_datetime(df['Date'])\n",
    "\n",
    "# Extraer el año y guardarlo en una nueva columna\n",
    "df['Year'] = df['Date'].dt.year\n",
    "\n",
    "# Contar el número de lanzamientos por año\n",
    "lanzamientos_por_año = df.groupby('Year').size()\n",
    "\n",
    "lanzamientos_por_año"
   ]
  }
 ],
 "metadata": {
  "kernelspec": {
   "display_name": "Python 3 (ipykernel)",
   "language": "python",
   "name": "python3"
  },
  "language_info": {
   "codemirror_mode": {
    "name": "ipython",
    "version": 3
   },
   "file_extension": ".py",
   "mimetype": "text/x-python",
   "name": "python",
   "nbconvert_exporter": "python",
   "pygments_lexer": "ipython3",
   "version": "3.11.0"
  }
 },
 "nbformat": 4,
 "nbformat_minor": 5
}
